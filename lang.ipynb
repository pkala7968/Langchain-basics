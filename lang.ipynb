{
 "cells": [
  {
   "cell_type": "code",
   "execution_count": 46,
   "id": "fa771815",
   "metadata": {},
   "outputs": [],
   "source": [
    "import os\n",
    "from dotenv import load_dotenv\n",
    "import warnings\n",
    "warnings.filterwarnings('ignore')\n",
    "\n",
    "load_dotenv()\n",
    "GOOGLE_API_KEY= os.getenv(\"GOOGLE_API_KEY\")"
   ]
  },
  {
   "cell_type": "code",
   "execution_count": 37,
   "id": "0d6b9405",
   "metadata": {},
   "outputs": [
    {
     "name": "stdout",
     "output_type": "stream",
     "text": [
      "## Pros and Cons of Python as a Programming Language\n",
      "\n",
      "Python is a versatile and widely used programming language known for its readability and ease of use. However, like any language, it has its strengths and weaknesses. Here's a breakdown of the pros and cons:\n",
      "\n",
      "**Pros:**\n",
      "\n",
      "*   **Readability and Simplicity:** Python's syntax is designed to be clear and easy to understand, resembling plain English. This makes it easier to learn, write, and maintain code.  It emphasizes code readability with its use of indentation.\n",
      "*   **Large and Active Community:** Python has a massive and supportive community of developers. This means you can easily find help online, access a wealth of tutorials, and benefit from the collective knowledge of experienced programmers.\n",
      "*   **Extensive Libraries and Frameworks:** Python boasts a vast collection of libraries and frameworks for various tasks, including:\n",
      "    *   **Data Science:** NumPy, Pandas, Scikit-learn, TensorFlow, PyTorch\n",
      "    *   **Web Development:** Django, Flask\n",
      "    *   **Automation:** Selenium, Beautiful Soup\n",
      "    *   **Scientific Computing:** SciPy\n",
      "    *   **GUI Development:** Tkinter, PyQt\n",
      "    *   This abundance\n"
     ]
    }
   ],
   "source": [
    "from langchain_google_genai import GoogleGenerativeAI\n",
    "\n",
    "llm = GoogleGenerativeAI(model=\"gemini-2.0-flash\", google_api_key=GOOGLE_API_KEY, temperature=0.5, max_output_tokens=250)\n",
    "print(\n",
    "    llm.invoke(\n",
    "        \"What are some of the pros and cons of Python as a programming language?\"\n",
    "    )\n",
    ")"
   ]
  },
  {
   "cell_type": "code",
   "execution_count": 38,
   "id": "ddbe0d9c",
   "metadata": {},
   "outputs": [
    {
     "data": {
      "text/plain": [
       "'How optimal is Bench Press as an exercise? What are some alternatives for it?'"
      ]
     },
     "execution_count": 38,
     "metadata": {},
     "output_type": "execute_result"
    }
   ],
   "source": [
    "from langchain.prompts import PromptTemplate\n",
    "prompt = PromptTemplate(\n",
    "    input_variables=[\"exercise\"],\n",
    "    template=\"How optimal is {exercise} as an exercise? What are some alternatives for it?\",\n",
    ")\n",
    "\n",
    "prompt.format(exercise=\"Bench Press\")"
   ]
  },
  {
   "cell_type": "code",
   "execution_count": 39,
   "id": "7b4719a7",
   "metadata": {},
   "outputs": [
    {
     "data": {
      "text/plain": [
       "'The squat is a highly effective exercise, but how \"optimal\" it is depends on individual goals, body mechanics, and injury history. Let\\'s break it down:\\n\\n**Why Squats are Considered Optimal:**\\n\\n*   **Compound Movement:** Squats work multiple muscle groups simultaneously, including:\\n    *   **Quadriceps:** Front of the thighs, responsible for knee extension.\\n    *   **Hamstrings:** Back of the thighs, responsible for knee flexion and hip extension.\\n    *   **Glutes:** Buttocks, responsible for hip extension, abduction, and external rotation.\\n    *   **Adductors:** Inner thighs, responsible for hip adduction.\\n    *   **Core:** Abdominals and lower back, responsible for stabilization.\\n*   **Functional Strength:** Squats mimic movements used in everyday life (sitting, standing, lifting). This translates to improved functional strength and mobility.\\n*   **Hormonal Response:** Heavy compound exercises like squats can stimulate the release of anabolic hormones (testosterone, growth hormone), which can contribute to muscle growth and overall strength gains.\\n*   **Versatile:** Squats can be modified in various ways (e.g., back squat, front'"
      ]
     },
     "execution_count": 39,
     "metadata": {},
     "output_type": "execute_result"
    }
   ],
   "source": [
    "from langchain.chains import LLMChain\n",
    "chain = LLMChain(llm=llm, prompt=prompt)\n",
    "chain.run(exercise=\"Squat\")"
   ]
  },
  {
   "cell_type": "code",
   "execution_count": 40,
   "id": "3d64dc6d",
   "metadata": {},
   "outputs": [
    {
     "name": "stdout",
     "output_type": "stream",
     "text": [
      "Okay, let's brainstorm some terrifying and thrilling rides and activities for \"Nightmare Adventures,\" an adventure park dedicated to all things scary! We'll aim for a mix of classic horror tropes, psychological thrills, and interactive experiences.\n",
      "\n",
      "**Rides:**\n",
      "\n",
      "*   **The Pendulum of Doom:** A giant pendulum ride that swings riders higher and higher, almost touching a spiked ceiling or a pit of (simulated) fire. The ride is themed after a medieval torture device.\n",
      "*   **The Spider's Lair:** An indoor roller coaster in complete darkness, themed around a giant spider's web. Riders are jostled and spun through narrow passages, encountering simulated spiderwebs, spider drops, and animatronic spiders.\n",
      "*   **The Asylum Elevator:** A drop tower ride disguised as an old, creaky elevator in a dilapidated asylum. The pre-show involves unsettling audio and visual effects, building tension before the sudden drop.\n",
      "*   **The Zombie Apocalypse Run:** A high-speed, off-road vehicle ride through a zombie-infested zone. Actors dressed as zombies chase the vehicle, and riders are armed with paintball guns to defend themselves.\n",
      "*   **The Ghost Ship Plunge:** A log\n"
     ]
    }
   ],
   "source": [
    "from langchain.chains import SimpleSequentialChain\n",
    "\n",
    "prompt_adv = PromptTemplate(\n",
    "    input_variables=[\"theme\"],\n",
    "    template=\"I want to open an adventure park with the theme of {theme}. Suggest only one name for this park\",\n",
    ")\n",
    "name_chain = LLMChain(llm=llm, prompt=prompt_adv, output_key=\"park_name\")\n",
    "\n",
    "prompt_rides = PromptTemplate(\n",
    "    input_variables=[\"park_name\"],\n",
    "    template=\"What are some ideas for rides, and activities that would fit this adventure park: {park_name}?\",\n",
    ")\n",
    "rides_chain = LLMChain(llm=llm, prompt=prompt_rides, output_key=\"rides\")\n",
    "\n",
    "chain= SimpleSequentialChain(chains=[name_chain, rides_chain])\n",
    "response = chain.run(\"Horror\")\n",
    "print(response)"
   ]
  },
  {
   "cell_type": "code",
   "execution_count": 41,
   "id": "a0fef3a2",
   "metadata": {},
   "outputs": [
    {
     "data": {
      "text/plain": [
       "{'theme': 'Horror',\n",
       " 'park_name': 'Terror Trails Adventure Park',\n",
       " 'rides': 'Okay, let\\'s brainstorm some ride and activity ideas for Terror Trails Adventure Park, keeping in mind the \"terror\" theme. We want to create a blend of thrilling adventures and spooky experiences.  I\\'ll categorize them for clarity:\\n\\n**I. Rides (More Mechanical/Structured):**\\n\\n*   **A. High-Thrill & Scary:**\\n\\n    *   **The Descent:** A controlled freefall ride (think a smaller version of a drop tower) themed around falling into a dark abyss.  Sound effects, fog, and strobe lights enhance the disorientation.  Maybe even a brief \"monster\" encounter before the drop.\\n    *   **The Pendulum of Peril:** A giant pendulum ride that swings riders high above the park, with creepy creatures projected onto the ground below or appearing to chase the pendulum.  Could incorporate near-miss effects (e.g., \"chains\" that appear to swing close to the riders).\\n    *   **The Labyrinth of Lost Souls:** A disorienting spinning ride inside a maze-like structure.  Darkness, strobe lights, and sudden bursts of air or water create a sense of panic.  Actors could briefly appear and disappear.\\n    *   '}"
      ]
     },
     "execution_count": 41,
     "metadata": {},
     "output_type": "execute_result"
    }
   ],
   "source": [
    "from langchain.chains import SequentialChain\n",
    "\n",
    "chain = SequentialChain(\n",
    "    chains=[name_chain, rides_chain],\n",
    "    input_variables=[\"theme\"],\n",
    "    output_variables=[\"park_name\",\"rides\"],\n",
    ")\n",
    "chain({\"theme\":\"Horror\"})"
   ]
  },
  {
   "cell_type": "code",
   "execution_count": 44,
   "id": "d1408e55",
   "metadata": {},
   "outputs": [
    {
     "name": "stdout",
     "output_type": "stream",
     "text": [
      "\n",
      "\n",
      "\u001b[1m> Entering new AgentExecutor chain...\u001b[0m\n",
      "\u001b[32;1m\u001b[1;3mI need to find information about Elon Musk and his companies. I can use Wikipedia to get this information.\n",
      "Action: Wikipedia\n",
      "Action Input: Elon Musk\u001b[0m\n",
      "Observation: \u001b[36;1m\u001b[1;3mPage: Elon Musk\n",
      "Summary: Elon Reeve Musk  ( EE-lon; born June 28, 1971) is a businessman. He is known for his leadership of Tesla, SpaceX, X (formerly Twitter), and the Department of Government Efficiency (DOGE). Musk has been considered the wealthiest person in the world since 2021; as of May 2025, Forbes estimates his net worth to be US$424.7 billion. \n",
      "Born to a wealthy family in Pretoria, South Africa, Musk emigrated in 1989 to Canada. He received bachelor's degrees from the University of Pennsylvania in 1997 before moving to California, United States, to pursue business ventures. In 1995, Musk co-founded the software company Zip2. Following its sale in 1999, he co-founded X.com, an online payment company that later merged to form PayPal, which was acquired by eBay in 2002. That year, Musk also became an American citizen.\n",
      "In 2002, Musk founded the space technology company SpaceX, becoming its CEO and chief engineer; the company has since led innovations in reusable rockets and commercial spaceflight. Musk joined the automaker Tesla as an early investor in 2004 and became its CEO and product architect in 2008; it has since become a leader in electric vehicles. In 2015, he co-founded OpenAI to advance artificial intelligence research but later left; growing discontent with the organization's direction and their leadership in the AI boom in the 2020s led him to establish xAI. In 2022, he acquired the social network Twitter, implementing significant changes and rebranding it as X in 2023. His other businesses include the neurotechnology company Neuralink, which he co-founded in 2016, and the tunneling company the Boring Company, which he founded in 2017. Musk was the largest donor in the 2024 U.S. presidential election, and is a supporter of global far-right figures, causes, and political parties.  In early 2025, he served as senior advisor to United States president Donald Trump and as the de facto head of DOGE. \n",
      "Musk's political activities, views, and statements have made him a polarizing figure, especially following the COVID-19 pandemic. He has been criticized for making unscientific and misleading statements, including COVID-19 misinformation and promoting conspiracy theories, and affirming antisemitic, racist, and transphobic comments. His acquisition of Twitter was controversial due to a subsequent increase in hate speech and the spread of misinformation on the service. His role in the second Trump administration attracted public backlash, particularly in response to DOGE.\n",
      "\n",
      "Page: Wealth of Elon Musk\n",
      "Summary: Elon Musk is the wealthiest person in the world, with an estimated net worth of US$381 billion as of May 2025, according to the Bloomberg Billionaires Index, and $424.7 billion according to Forbes, primarily from his ownership stakes in Tesla and SpaceX. \n",
      "Having been first listed on the Forbes Billionaires List in 2012, around 75% of Musk's wealth was derived from Tesla stock in November 2020. Describing himself as \"cash poor\", he became the first person in the world to have a net worth above $300 billion a year later. By December 2024, he became the first person to reach a net worth of $400 billion.\n",
      "\n",
      "\n",
      "\n",
      "Page: Views of Elon Musk\n",
      "Summary: Elon Musk is the owner of multiple companies, the wealthiest individual in the world, and a former US government employee. Having rejected the conservative label, Musk has described himself as a political moderate; his views have become more right-wing over time, and have been characterized as libertarian and far-right. As the owner of Twitter, he has suppressed critics, and after his involvement in European politics, his views have received criticism from some world leaders. Musk has also expressed his opinion on topics from science and technology to religion and philosophy.\n",
      "Within the context of American politics, Musk voted for Democratic candidates from 2008 until 2020, before switching to Republican candidates in 2022, and supporting Donald Trump in 2024 who he previously feuded \u001b[0m\n",
      "Thought:\u001b[32;1m\u001b[1;3mI have gathered enough information to answer the question.\n",
      "Final Answer: Elon Reeve Musk is a businessman known for his leadership of Tesla, SpaceX, X (formerly Twitter), and the Department of Government Efficiency (DOGE). Some of his companies include Tesla, SpaceX, X, Neuralink, and the Boring Company.\u001b[0m\n",
      "\n",
      "\u001b[1m> Finished chain.\u001b[0m\n"
     ]
    },
    {
     "data": {
      "text/plain": [
       "'Elon Reeve Musk is a businessman known for his leadership of Tesla, SpaceX, X (formerly Twitter), and the Department of Government Efficiency (DOGE). Some of his companies include Tesla, SpaceX, X, Neuralink, and the Boring Company.'"
      ]
     },
     "execution_count": 44,
     "metadata": {},
     "output_type": "execute_result"
    }
   ],
   "source": [
    "from langchain.agents import AgentType, initialize_agent, Tool\n",
    "from langchain.utilities import WikipediaAPIWrapper\n",
    "\n",
    "wiki = WikipediaAPIWrapper()\n",
    "\n",
    "tools = [\n",
    "    Tool(\n",
    "        name=\"Wikipedia\",\n",
    "        func=wiki.run,\n",
    "        description=\"Useful for when you need to answer questions about people, places, or concepts from Wikipedia\"\n",
    "    )\n",
    "]\n",
    "\n",
    "agent= initialize_agent(\n",
    "    tools=tools,\n",
    "    llm=llm,\n",
    "    agent=AgentType.ZERO_SHOT_REACT_DESCRIPTION,\n",
    "    verbose=True\n",
    ")\n",
    "\n",
    "agent.run(\"Who is Elon Musk? What are some of his companies?\")"
   ]
  },
  {
   "cell_type": "code",
   "execution_count": 50,
   "id": "49669695",
   "metadata": {},
   "outputs": [
    {
     "name": "stdout",
     "output_type": "stream",
     "text": [
      "\n",
      "\n",
      "\u001b[1m> Entering new AgentExecutor chain...\u001b[0m\n",
      "\u001b[32;1m\u001b[1;3mI need to find the GDP of India. I will use the search tool to find the most recent information available.\n",
      "Action: Search\n",
      "Action Input: \"India GDP\"\u001b[0m\n",
      "Observation: \u001b[36;1m\u001b[1;3m[{'title': \"India's defence budget outlook: EY report calls for 3% GDP benchmark; permanent fund, R&D push recommende\", 'link': 'https://timesofindia.indiatimes.com/business/india-business/indias-defence-budget-outlook-ey-report-calls-for-3-gdp-benchmark-permanent-fund-rd-push-recommended/articleshow/122159323.cms', 'source': 'Times of India', 'source_logo': 'https://serpapi.com/searches/6862a3526c4c0c12f1f42ac7/images/e376ac62e15150f882ceba7f6c18722a594b3df682e8d2f0ddf49803b424b529.png', 'date': '4 hours ago', 'thumbnail': 'https://serpapi.com/searches/6862a3526c4c0c12f1f42ac7/images/e376ac62e15150f87fe1920837a2b6f5dc61375a4503d947.jpeg'}, {'title': \"Private consumption share in India's GDP at two-decade high: Finance Ministry\", 'link': 'https://m.economictimes.com/news/economy/indicators/private-consumption-share-in-indias-gdp-at-two-decade-high-finance-ministry/articleshow/122126505.cms', 'source': 'The Economic Times', 'source_logo': 'https://serpapi.com/searches/6862a3526c4c0c12f1f42ac7/images/e376ac62e15150f88f851a23b61e61c021b50a88ecf8ca3c121a998677f86c37.png', 'date': '2 days ago', 'thumbnail': 'https://serpapi.com/searches/6862a3526c4c0c12f1f42ac7/images/e376ac62e15150f822c805af60ba2ae643c5f601e524fa6f.jpeg'}]\u001b[0m\n",
      "Thought:\u001b[32;1m\u001b[1;3mThe search results mention shares of GDP and budget outlooks as a percentage of GDP, but not the actual GDP figure. I will refine my search to find the GDP in dollars.\n",
      "Action: Search\n",
      "Action Input: \"India GDP in USD\"\u001b[0m\n",
      "Observation: \u001b[36;1m\u001b[1;3m['No information is available for this page.', 'Economy of India ; –6.4% of GDP (2022–23) · ₹34.96 trillion (US$410 billion); (2025–26) · ₹50.65 trillion (US$600 billion); (2025–26) · Donor: Increase $4.234 ...', 'Real GDP growth. Annual percent change. 6.2 ; GDP, current prices. Billions of U.S. dollars. 4.19 ; GDP per capita, current prices. U.S. dollars per capita. 2.88.', 'India GDP for 2022 was 3.353 trillion US dollars, a 5.88% increase from 2021. · India GDP for 2021 was 3.167 trillion US dollars, a 18.41% increase from 2020.', 'Nominal (current) Gross Domestic Product (GDP) of India is $3,567,550,000,000 (USD) as of 2023. · Real GDP (constant, inflation adjusted) of India reached ...', 'GDP by Country ; 4, Japan, $4,204,490,000,000 ; 5, India, $3,567,550,000,000 ; 6, United Kingdom, $3,380,850,000,000 ; 7, France, $3,051,830,000,000 ...', \"GDP in India is estimated to be $3.425 Trillion US dollars at the end of 2024 in Real GDP terms. Looking ahead to 2025, projections suggest India's 2025 GDP ...\", 'GDP (current US$) in India was reported at 3567551674623 USD in 2023, according to the World Bank collection of development indicators, compiled from officially ...']\u001b[0m\n",
      "Thought:\u001b[32;1m\u001b[1;3mThe search results provide several figures for India's GDP. The most recent figure available is from the World Bank, which states that India's GDP (current US$) in 2023 was $3,567,551,674,623 USD. This is approximately $3.57 trillion.\n",
      "Final Answer: The GDP of India in 2023 was approximately $3.57 trillion USD.\u001b[0m\n",
      "\n",
      "\u001b[1m> Finished chain.\u001b[0m\n"
     ]
    },
    {
     "data": {
      "text/plain": [
       "'The GDP of India in 2023 was approximately $3.57 trillion USD.'"
      ]
     },
     "execution_count": 50,
     "metadata": {},
     "output_type": "execute_result"
    }
   ],
   "source": [
    "load_dotenv()\n",
    "SERP_API_API_KEY = os.getenv(\"SERP_API_API_KEY\")\n",
    "from langchain_community.utilities import SerpAPIWrapper\n",
    "\n",
    "search = SerpAPIWrapper(serpapi_api_key=SERP_API_API_KEY)\n",
    "tools = [\n",
    "    Tool(\n",
    "        name=\"Search\",\n",
    "        func=search.run,\n",
    "        description=\"Useful for when you need to answer questions about current events or recent news. You should ask targeted questions.\"\n",
    "    )\n",
    "]\n",
    "search_agent = initialize_agent(\n",
    "    tools=tools,\n",
    "    llm=llm,\n",
    "    agent=AgentType.ZERO_SHOT_REACT_DESCRIPTION,\n",
    "    verbose=True\n",
    ")\n",
    "search_agent.run(\"What is the GDP of India?\")"
   ]
  },
  {
   "cell_type": "code",
   "execution_count": 51,
   "id": "f6605bd5",
   "metadata": {},
   "outputs": [
    {
     "name": "stdout",
     "output_type": "stream",
     "text": [
      "The squat is a highly effective and versatile exercise, often considered a cornerstone of strength training. However, its \"optimality\" depends on individual goals, physical limitations, and proper execution.\n",
      "\n",
      "**How Optimal is the Squat?**\n",
      "\n",
      "**Pros:**\n",
      "\n",
      "*   **Compound Exercise:** Works multiple muscle groups simultaneously, including quads, hamstrings, glutes, core, and back.\n",
      "*   **Functional Strength:** Mimics everyday movements like sitting, standing, and lifting objects.\n",
      "*   **Muscle Growth:** Stimulates significant muscle growth, particularly in the lower body.\n",
      "*   **Hormonal Response:** Can promote the release of anabolic hormones like testosterone and growth hormone.\n",
      "*   **Versatile:** Can be modified with different weights, stances, and depths to target specific muscles and accommodate varying fitness levels.\n",
      "*   **Improves Bone Density:** Weight-bearing exercise that can help strengthen bones.\n",
      "*   **Core Strength:** Engages core muscles for stabilization, improving overall core strength.\n",
      "\n",
      "**Cons:**\n",
      "\n",
      "*   **Technique-Dependent:** Requires proper form to avoid injuries, especially to the knees and lower back.\n",
      "*   **Mobility Requirements:** Demands adequate ankle, hip,\n"
     ]
    }
   ],
   "source": [
    "from langchain.memory import ConversationBufferMemory\n",
    "memory= ConversationBufferMemory()\n",
    "\n",
    "prompt = PromptTemplate(\n",
    "    input_variables=[\"exercise\"],\n",
    "    template=\"How optimal is {exercise} as an exercise? What are some alternatives for it?\",\n",
    ")\n",
    "\n",
    "chain = LLMChain(llm=llm, prompt=prompt, memory=memory)\n",
    "resp= chain.run(exercise=\"Squat\")\n",
    "print(resp)"
   ]
  },
  {
   "cell_type": "code",
   "execution_count": 52,
   "id": "0766f40f",
   "metadata": {},
   "outputs": [
    {
     "name": "stdout",
     "output_type": "stream",
     "text": [
      "The bench press is a highly popular and effective exercise, but its \"optimality\" depends on your individual goals and needs. Let's break down the pros, cons, and alternatives:\n",
      "\n",
      "**Pros of the Bench Press:**\n",
      "\n",
      "*   **Excellent for Building Upper Body Strength and Muscle Mass:** It primarily targets the pectoralis major (chest), anterior deltoid (front of the shoulder), and triceps.  It's a compound exercise, meaning it works multiple muscle groups simultaneously, making it efficient.\n",
      "*   **Relatively Easy to Learn:** While proper form is crucial, the basic movement pattern is fairly straightforward.\n",
      "*   **Easily Progressive:** You can easily increase the weight as you get stronger, making it a great exercise for long-term progress.\n",
      "*   **Good for Measuring Strength:** The bench press is a standard measure of upper body strength, often used in powerlifting.\n",
      "*   **Versatile:**  Can be modified with different grips, inclines, and equipment (barbell, dumbbells) to target different areas of the chest and triceps.\n",
      "\n",
      "**Cons of the Bench Press:**\n",
      "\n",
      "*   **Shoulder Strain:**  Poor form, excessive weight, or pre-existing shoulder\n"
     ]
    }
   ],
   "source": [
    "resp= chain.run(exercise=\"Bench Press\")\n",
    "print(resp)"
   ]
  },
  {
   "cell_type": "code",
   "execution_count": 54,
   "id": "6090f86f",
   "metadata": {},
   "outputs": [
    {
     "name": "stdout",
     "output_type": "stream",
     "text": [
      "Human: Squat\n",
      "AI: The squat is a highly effective and versatile exercise, often considered a cornerstone of strength training. However, its \"optimality\" depends on individual goals, physical limitations, and proper execution.\n",
      "\n",
      "**How Optimal is the Squat?**\n",
      "\n",
      "**Pros:**\n",
      "\n",
      "*   **Compound Exercise:** Works multiple muscle groups simultaneously, including quads, hamstrings, glutes, core, and back.\n",
      "*   **Functional Strength:** Mimics everyday movements like sitting, standing, and lifting objects.\n",
      "*   **Muscle Growth:** Stimulates significant muscle growth, particularly in the lower body.\n",
      "*   **Hormonal Response:** Can promote the release of anabolic hormones like testosterone and growth hormone.\n",
      "*   **Versatile:** Can be modified with different weights, stances, and depths to target specific muscles and accommodate varying fitness levels.\n",
      "*   **Improves Bone Density:** Weight-bearing exercise that can help strengthen bones.\n",
      "*   **Core Strength:** Engages core muscles for stabilization, improving overall core strength.\n",
      "\n",
      "**Cons:**\n",
      "\n",
      "*   **Technique-Dependent:** Requires proper form to avoid injuries, especially to the knees and lower back.\n",
      "*   **Mobility Requirements:** Demands adequate ankle, hip,\n",
      "Human: Bench Press\n",
      "AI: The bench press is a highly popular and effective exercise, but its \"optimality\" depends on your individual goals and needs. Let's break down the pros, cons, and alternatives:\n",
      "\n",
      "**Pros of the Bench Press:**\n",
      "\n",
      "*   **Excellent for Building Upper Body Strength and Muscle Mass:** It primarily targets the pectoralis major (chest), anterior deltoid (front of the shoulder), and triceps.  It's a compound exercise, meaning it works multiple muscle groups simultaneously, making it efficient.\n",
      "*   **Relatively Easy to Learn:** While proper form is crucial, the basic movement pattern is fairly straightforward.\n",
      "*   **Easily Progressive:** You can easily increase the weight as you get stronger, making it a great exercise for long-term progress.\n",
      "*   **Good for Measuring Strength:** The bench press is a standard measure of upper body strength, often used in powerlifting.\n",
      "*   **Versatile:**  Can be modified with different grips, inclines, and equipment (barbell, dumbbells) to target different areas of the chest and triceps.\n",
      "\n",
      "**Cons of the Bench Press:**\n",
      "\n",
      "*   **Shoulder Strain:**  Poor form, excessive weight, or pre-existing shoulder\n"
     ]
    }
   ],
   "source": [
    "print(chain.memory.buffer)"
   ]
  },
  {
   "cell_type": "code",
   "execution_count": 63,
   "id": "7ccb5d6d",
   "metadata": {},
   "outputs": [
    {
     "name": "stdout",
     "output_type": "stream",
     "text": [
      "The following is a friendly conversation between a human and an AI. The AI is talkative and provides lots of specific details from its context. If the AI does not know the answer to a question, it truthfully says it does not know.\n",
      "\n",
      "Current conversation:\n",
      "{history}\n",
      "Human: {input}\n",
      "AI:\n"
     ]
    }
   ],
   "source": [
    "from langchain.chains import ConversationChain\n",
    "conversation = ConversationChain(\n",
    "    llm=llm,\n",
    "    memory=ConversationBufferMemory(remember_last_n=5, return_messages=True)\n",
    ")\n",
    "print(conversation.prompt.template)"
   ]
  },
  {
   "cell_type": "code",
   "execution_count": 64,
   "id": "2fb39edd",
   "metadata": {},
   "outputs": [
    {
     "data": {
      "text/plain": [
       "\"Okay, let's see! The ICC World Twenty20 (now known as the T20 World Cup) in 2007 was won by **India**. They defeated Pakistan in the final. It was a thrilling match! Do you want to know anything else about that tournament, like who was the player of the series or the highest run-scorer?\""
      ]
     },
     "execution_count": 64,
     "metadata": {},
     "output_type": "execute_result"
    }
   ],
   "source": [
    "conversation.run(\"Who won the T20 world cup in 2007\")"
   ]
  },
  {
   "cell_type": "code",
   "execution_count": 65,
   "id": "1491cacd",
   "metadata": {},
   "outputs": [
    {
     "data": {
      "text/plain": [
       "'Ah, Python! A fantastic choice. It\\'s versatile and relatively easy to pick up, making it great for beginners and powerful enough for experienced programmers. Here\\'s a breakdown of ways to learn Python, catering to different learning styles and levels:\\n\\n**1. For the Absolute Beginner (No Programming Experience):**\\n\\n*   **Interactive Tutorials:** These are brilliant for getting your feet wet. They provide immediate feedback as you type code.\\n    *   **Codecademy\\'s Learn Python 3:** A classic. It\\'s structured, beginner-friendly, and covers the fundamentals well. (I\\'ve seen many users find this a great starting point!)\\n    *   **Google\\'s Python Class:** This is a free course that includes lecture videos, written materials, and coding exercises. It\\'s a bit more in-depth than Codecademy but still suitable for beginners. (I have access to the content of this course and can confirm its comprehensive nature).\\n    *   **LearnPython.org:** A free interactive Python tutorial.\\n\\n*   **\"Python Crash Course\" by Eric Matthes:** This book is highly recommended. It\\'s well-written, projects-based, and gets you'"
      ]
     },
     "execution_count": 65,
     "metadata": {},
     "output_type": "execute_result"
    }
   ],
   "source": [
    "conversation.run(\"What is the best way to learn Python?\")"
   ]
  },
  {
   "cell_type": "code",
   "execution_count": 66,
   "id": "7ecd6da0",
   "metadata": {},
   "outputs": [
    {
     "data": {
      "text/plain": [
       "\"Okay, let's find out who captained India in the 2007 T20 World Cup!\\n\\nThe captain of the Indian team that won the 2007 T20 World Cup was **Mahendra Singh Dhoni**. It was actually his first major tournament as captain, and he led the team to a historic victory! He was known for his calm demeanor and strategic decision-making, which were definitely key to their success in that tournament.\\n\\nWould you like to know more about MS Dhoni or the Indian team from that World Cup? Perhaps some interesting facts about the final match?\""
      ]
     },
     "execution_count": 66,
     "metadata": {},
     "output_type": "execute_result"
    }
   ],
   "source": [
    "conversation.run(\"Who was the captain of the winning team?\")"
   ]
  },
  {
   "cell_type": "code",
   "execution_count": 68,
   "id": "8d7140f9",
   "metadata": {},
   "outputs": [
    {
     "data": {
      "text/plain": [
       "[HumanMessage(content='Who won the T20 world cup in 2007', additional_kwargs={}, response_metadata={}),\n",
       " AIMessage(content=\"Okay, let's see! The ICC World Twenty20 (now known as the T20 World Cup) in 2007 was won by **India**. They defeated Pakistan in the final. It was a thrilling match! Do you want to know anything else about that tournament, like who was the player of the series or the highest run-scorer?\", additional_kwargs={}, response_metadata={}),\n",
       " HumanMessage(content='What is the best way to learn Python?', additional_kwargs={}, response_metadata={}),\n",
       " AIMessage(content='Ah, Python! A fantastic choice. It\\'s versatile and relatively easy to pick up, making it great for beginners and powerful enough for experienced programmers. Here\\'s a breakdown of ways to learn Python, catering to different learning styles and levels:\\n\\n**1. For the Absolute Beginner (No Programming Experience):**\\n\\n*   **Interactive Tutorials:** These are brilliant for getting your feet wet. They provide immediate feedback as you type code.\\n    *   **Codecademy\\'s Learn Python 3:** A classic. It\\'s structured, beginner-friendly, and covers the fundamentals well. (I\\'ve seen many users find this a great starting point!)\\n    *   **Google\\'s Python Class:** This is a free course that includes lecture videos, written materials, and coding exercises. It\\'s a bit more in-depth than Codecademy but still suitable for beginners. (I have access to the content of this course and can confirm its comprehensive nature).\\n    *   **LearnPython.org:** A free interactive Python tutorial.\\n\\n*   **\"Python Crash Course\" by Eric Matthes:** This book is highly recommended. It\\'s well-written, projects-based, and gets you', additional_kwargs={}, response_metadata={}),\n",
       " HumanMessage(content='Who was the captain of the winning team?', additional_kwargs={}, response_metadata={}),\n",
       " AIMessage(content=\"Okay, let's find out who captained India in the 2007 T20 World Cup!\\n\\nThe captain of the Indian team that won the 2007 T20 World Cup was **Mahendra Singh Dhoni**. It was actually his first major tournament as captain, and he led the team to a historic victory! He was known for his calm demeanor and strategic decision-making, which were definitely key to their success in that tournament.\\n\\nWould you like to know more about MS Dhoni or the Indian team from that World Cup? Perhaps some interesting facts about the final match?\", additional_kwargs={}, response_metadata={})]"
      ]
     },
     "execution_count": 68,
     "metadata": {},
     "output_type": "execute_result"
    }
   ],
   "source": [
    "conversation.memory.buffer"
   ]
  }
 ],
 "metadata": {
  "kernelspec": {
   "display_name": "Python 3",
   "language": "python",
   "name": "python3"
  },
  "language_info": {
   "codemirror_mode": {
    "name": "ipython",
    "version": 3
   },
   "file_extension": ".py",
   "mimetype": "text/x-python",
   "name": "python",
   "nbconvert_exporter": "python",
   "pygments_lexer": "ipython3",
   "version": "3.12.4"
  }
 },
 "nbformat": 4,
 "nbformat_minor": 5
}
