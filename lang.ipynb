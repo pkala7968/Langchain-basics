{
 "cells": [
  {
   "cell_type": "code",
   "execution_count": null,
   "id": "fa771815",
   "metadata": {},
   "outputs": [],
   "source": [
    "import os\n",
    "from dotenv import load_dotenv\n",
    "\n",
    "load_dotenv()\n",
    "GOOGLE_API_KEY= os.getenv(\"GOOGLE_API_KEY\")"
   ]
  }
 ],
 "metadata": {
  "language_info": {
   "name": "python"
  }
 },
 "nbformat": 4,
 "nbformat_minor": 5
}
